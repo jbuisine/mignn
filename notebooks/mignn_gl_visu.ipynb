{
 "cells": [
  {
   "cell_type": "code",
   "execution_count": 42,
   "id": "e958a24d-510f-4a8a-98d6-fff31c150f02",
   "metadata": {
    "tags": []
   },
   "outputs": [],
   "source": [
    "import os\n",
    "import mitsuba as mi\n",
    "import matplotlib.pyplot as plt\n",
    "\n",
    "output_data_folder = 'data'\n",
    "scene_file = 'scenes/cbox/cbox.xml'\n",
    "\n",
    "mi.set_variant('scalar_rgb')\n",
    "scene = mi.load_file(scene_file)"
   ]
  },
  {
   "cell_type": "code",
   "execution_count": 14,
   "id": "b971486c-e07c-4413-849b-b73c3d11d5b4",
   "metadata": {
    "tags": []
   },
   "outputs": [],
   "source": [
    "# clear data if necessary\n",
    "%rm -r data"
   ]
  },
  {
   "cell_type": "code",
   "execution_count": 15,
   "id": "e8af9900-5bd7-424c-92d1-088931b15a1a",
   "metadata": {
    "tags": []
   },
   "outputs": [],
   "source": [
    "# create data folder if necessary\n",
    "os.makedirs(output_data_folder, exist_ok=True)"
   ]
  },
  {
   "cell_type": "code",
   "execution_count": 40,
   "id": "28349849-9fe2-4da0-a1d8-04ee3cf4c899",
   "metadata": {
    "tags": []
   },
   "outputs": [
    {
     "name": "stderr",
     "output_type": "stream",
     "text": [
      "Clipping input data to the valid range for imshow with RGB data ([0..1] for floats or [0..255] for integers).\n"
     ]
    },
    {
     "data": {
      "image/png": "[encoded data removed]",
      "text/plain": [
       "<Figure size 640x480 with 1 Axes>"
      ]
     },
     "metadata": {},
     "output_type": "display_data"
    }
   ],
   "source": [
    "params = mi.traverse(scene)\n",
    "params['logfile'] = 'data/gnn_file_1.path'\n",
    "params.update();\n",
    "\n",
    "ref_integrator = mi.load_dict({'type': 'path', 'max_depth': 5})\n",
    "image = mi.render(scene, integrator=ref_integrator, spp=1000)\n",
    "\n",
    "plt.axis(\"off\")\n",
    "plt.imshow(image ** (1.0 / 2.2)); # approximate sRGB tonemapping\n",
    "\n",
    "#params = mi.traverse(scene)\n",
    "#params['logfile'] = 'data/gnn_file_2.path'\n",
    "#params.update();\n",
    "#mi.render(scene, spp=20)"
   ]
  },
  {
   "cell_type": "code",
   "execution_count": 27,
   "id": "02e873b2-5ea1-4fa2-8ed4-deb6179423d6",
   "metadata": {},
   "outputs": [
    {
     "name": "stdout",
     "output_type": "stream",
     "text": [
      "Load of `data/gnn_file_1.path` in progress: 100.00%\n",
      "SimpleLightGraphContainer: [n_keys: 4096, n_graphs: 40960, n_nodes: 82175 (duplicate: 0), n_connections: 41215 (built: 0)]\n"
     ]
    }
   ],
   "source": [
    "from mignn.container import SimpleLightGraphContainer\n",
    "light_graphs1 = SimpleLightGraphContainer.fromfile('data/gnn_file_1.path', scene_file, verbose=True)\n",
    "#light_graphs2 = SimpleLightGraphContainer.fromfile('data/gnn_file_2.path', scene_file, verbose=True)\n",
    "print(f'{light_graphs1}')\n",
    "#print(f'{light_graphs2}')"
   ]
  },
  {
   "cell_type": "code",
   "execution_count": 28,
   "id": "a4e9c987-7a11-40aa-8f37-78f098fd7580",
   "metadata": {
    "tags": []
   },
   "outputs": [
    {
     "name": "stdout",
     "output_type": "stream",
     "text": [
      "SimpleLightGraphContainer: [n_keys: 4096, n_graphs: 40960, n_nodes: 82175 (duplicate: 0), n_connections: 41215 (built: 0)]\n"
     ]
    }
   ],
   "source": [
    "from mignn.manager import LightGraphManager\n",
    "merged_graph_container = LightGraphManager.fusion([light_graphs1])\n",
    "print(merged_graph_container)"
   ]
  },
  {
   "cell_type": "code",
   "execution_count": 29,
   "id": "f67e6e28-281a-47c0-bb4e-289582a70a33",
   "metadata": {
    "tags": []
   },
   "outputs": [
    {
     "name": "stderr",
     "output_type": "stream",
     "text": [
      "/home/jerome/Documents/Research/Development/Rendering/mitsuba3/build-gnn/python/drjit/router.py:1753: RuntimeWarning: divide by zero encountered in divide\n",
      "  return 1.0 / arg\n",
      "/home/jerome/Documents/Research/Development/Rendering/mitsuba3/build-gnn/python/drjit/generic.py:194: RuntimeWarning: invalid value encountered in scalar multiply\n",
      "  ar[i] = a0[i] * a1\n"
     ]
    },
    {
     "name": "stdout",
     "output_type": "stream",
     "text": [
      "Connections build 100.00%\n"
     ]
    }
   ],
   "source": [
    "merged_graph_container.build_connections(n_graphs=10, n_nodes_per_graphs=10, n_neighbors=10, verbose=True)"
   ]
  },
  {
   "cell_type": "code",
   "execution_count": 30,
   "id": "3b69b953-33dd-4587-be87-33037543c44a",
   "metadata": {},
   "outputs": [
    {
     "name": "stdout",
     "output_type": "stream",
     "text": [
      "SimpleLightGraphContainer: [n_keys: 4096, n_graphs: 40960, n_nodes: 106237 (duplicate: 24062), n_connections: 67543 (built: 26328)]\n"
     ]
    }
   ],
   "source": [
    "print(merged_graph_container)"
   ]
  },
  {
   "cell_type": "code",
   "execution_count": 31,
   "id": "a778969b-4302-4e04-b5d7-184abd072860",
   "metadata": {
    "tags": []
   },
   "outputs": [],
   "source": [
    "import torch\n",
    "from torch_geometric.data import Data\n",
    "\n",
    "graphs_samples = merged_graph_container.graphs_at((3, 3))"
   ]
  },
  {
   "cell_type": "code",
   "execution_count": 32,
   "id": "00840bc6-1734-431f-889f-9a1f8e52a814",
   "metadata": {},
   "outputs": [],
   "source": [
    "#############################################\n",
    "# SEND COMMAND TO GL_PATHTRACING_VISUALIZER #\n",
    "#############################################\n",
    "import socket\n",
    "import select\n",
    "import time\n",
    "import numpy as np\n",
    "\n",
    "HOST = \"127.0.0.1\"\n",
    "PORT = 8080\n",
    "ACK_TEXT = 'text_received'\n",
    "\n",
    "def upload_data_gl(graph_data):\n",
    "    \n",
    "    input(\"upload data to GL (y/n)\")\n",
    "    # instantiate a socket object\n",
    "    print('socket instantiated')\n",
    "\n",
    "    view_x, view_y, view_z = graph_data.pos[0]\n",
    "    \n",
    "    # gray color\n",
    "    draw_point(view_x, view_y, view_z, 0.5, 0.5, 0.5)\n",
    "    \n",
    "    for (x, y, z) in graph_data.pos[1:]:\n",
    "    \n",
    "        # green color\n",
    "        draw_point(x, y, z, 0, 0.7, 0)\n",
    "        \n",
    "    edge_index = np.array(graph_data.edge_index).T\n",
    "\n",
    "    for c_i, (node_1, node_2) in enumerate(edge_index):\n",
    "        x1, y1, z1 = graph_data.pos[node_1]\n",
    "        x2, y2, z2 =graph_data.pos[node_2]\n",
    "        \n",
    "        tag_index = graph_data.edge_tag[c_i].value\n",
    "        \n",
    "        # expected build connection: then red else blue (original)\n",
    "        if tag_index == 0:\n",
    "            draw_line(x1, y1, z1, x2, y2, z2, 1, 0., 0)    \n",
    "        else:\n",
    "            draw_line(x1, y1, z1, x2, y2, z2, 0, 0.8, 0)\n",
    "\n",
    "    stop()\n",
    "\n",
    "def draw_point(x,y,z,r,g,b):\n",
    "\n",
    "    sock = socket.socket()\n",
    "    sock.connect((HOST, PORT))\n",
    "    message = \"drawpoint:\"\n",
    "    message = message + str(x) +\",\"+str(y)+\",\"+str(z)+\";\" # position\n",
    "    message = message + str(r) +\",\"+str(g)+\",\"+str(b)+\",\"+str(0)+\";\" # color\n",
    "    sock.send(message.encode())\n",
    "    # print(\"sending:\", message)\n",
    "    sock.close()\n",
    "\n",
    "def draw_line(x,y,z, x2,y2,z2, r,g,b):\n",
    "\n",
    "    sock = socket.socket()\n",
    "    sock.connect((HOST, PORT))\n",
    "    message = \"drawline:\"\n",
    "    message = message + str(x) +\",\"+str(y)+\",\"+str(z)+\";\" # position\n",
    "    message = message + str(x2) +\",\"+str(y2)+\",\"+str(z2)+\";\" # position2\n",
    "    message = message + str(r) +\",\"+str(g)+\",\"+str(b)+\",\"+str(0)+\";\" # color\n",
    "    sock.send(message.encode())\n",
    "    # print(\"sending:\", message)\n",
    "    sock.close()\n",
    "\n",
    "def stop():\n",
    "    sock = socket.socket()\n",
    "    sock.connect((HOST, PORT))\n",
    "    message = \"STOP:0\"\n",
    "    sock.send(message.encode())\n",
    "    sock.close()"
   ]
  },
  {
   "cell_type": "code",
   "execution_count": 34,
   "id": "3b4babb5-0dc2-4eb9-88ba-a63b480721a8",
   "metadata": {
    "tags": []
   },
   "outputs": [
    {
     "name": "stdout",
     "output_type": "stream",
     "text": [
      "GraphData(x=[[281.204, 276.166, -790.0, 0.292157, 0.288703, 0.911754], [0.0, 0.0, 0.0, 0.0, 0.0, 0.0]], edge_index=[(0,), (1,)], edge_attr=(inf,), y=[0.0, 0.0, 0.0], edge_tag=(<ConnectionTag.ORIGINAL: 0>,), pos=[[281.204, 276.166, -790.0], [0.0, 0.0, 0.0]])\n"
     ]
    }
   ],
   "source": [
    "graph_data = graphs_samples[4].data\n",
    "print(graph_data)"
   ]
  },
  {
   "cell_type": "code",
   "execution_count": 18,
   "id": "f3e46ab8-40b2-4ab1-972d-b03d32c9b690",
   "metadata": {
    "tags": []
   },
   "outputs": [
    {
     "name": "stdout",
     "output_type": "stream",
     "text": [
      "GraphData(x=[[281.368, 275.188, -790.0, 0.312563, 0.203045, 0.927942], [0.0, 0.0, 0.0, 0.0, 0.0, 0.0]], edge_index=[(0,), (1,)], edge_attr=(inf,), y=[0.0, 0.0, 0.0], edge_tag=(<ConnectionTag.ORIGINAL: 0>,), pos=[[281.368, 275.188, -790.0], [0.0, 0.0, 0.0]])\n"
     ]
    },
    {
     "ename": "KeyboardInterrupt",
     "evalue": "Interrupted by user",
     "output_type": "error",
     "traceback": [
      "\u001b[0;31m---------------------------------------------------------------------------\u001b[0m",
      "\u001b[0;31mKeyboardInterrupt\u001b[0m                         Traceback (most recent call last)",
      "Cell \u001b[0;32mIn[18], line 3\u001b[0m\n\u001b[1;32m      1\u001b[0m graph_data \u001b[38;5;241m=\u001b[39m graphs_samples[\u001b[38;5;241m5\u001b[39m]\u001b[38;5;241m.\u001b[39mdata\n\u001b[1;32m      2\u001b[0m \u001b[38;5;28mprint\u001b[39m(graph_data)\n\u001b[0;32m----> 3\u001b[0m \u001b[43mupload_data_gl\u001b[49m\u001b[43m(\u001b[49m\u001b[43mgraph_data\u001b[49m\u001b[43m)\u001b[49m\n",
      "Cell \u001b[0;32mIn[14], line 15\u001b[0m, in \u001b[0;36mupload_data_gl\u001b[0;34m(graph_data)\u001b[0m\n\u001b[1;32m     13\u001b[0m \u001b[38;5;28;01mdef\u001b[39;00m \u001b[38;5;21mupload_data_gl\u001b[39m(graph_data):\n\u001b[0;32m---> 15\u001b[0m     \u001b[38;5;28;43minput\u001b[39;49m\u001b[43m(\u001b[49m\u001b[38;5;124;43m\"\u001b[39;49m\u001b[38;5;124;43mupload data to GL (y/n)\u001b[39;49m\u001b[38;5;124;43m\"\u001b[39;49m\u001b[43m)\u001b[49m\n\u001b[1;32m     16\u001b[0m     \u001b[38;5;66;03m# instantiate a socket object\u001b[39;00m\n\u001b[1;32m     17\u001b[0m     \u001b[38;5;28mprint\u001b[39m(\u001b[38;5;124m'\u001b[39m\u001b[38;5;124msocket instantiated\u001b[39m\u001b[38;5;124m'\u001b[39m)\n",
      "File \u001b[0;32m~/.pyenv/versions/mitsuba-venv/lib/python3.9/site-packages/ipykernel/kernelbase.py:1191\u001b[0m, in \u001b[0;36mKernel.raw_input\u001b[0;34m(self, prompt)\u001b[0m\n\u001b[1;32m   1189\u001b[0m     msg \u001b[38;5;241m=\u001b[39m \u001b[38;5;124m\"\u001b[39m\u001b[38;5;124mraw_input was called, but this frontend does not support input requests.\u001b[39m\u001b[38;5;124m\"\u001b[39m\n\u001b[1;32m   1190\u001b[0m     \u001b[38;5;28;01mraise\u001b[39;00m StdinNotImplementedError(msg)\n\u001b[0;32m-> 1191\u001b[0m \u001b[38;5;28;01mreturn\u001b[39;00m \u001b[38;5;28;43mself\u001b[39;49m\u001b[38;5;241;43m.\u001b[39;49m\u001b[43m_input_request\u001b[49m\u001b[43m(\u001b[49m\n\u001b[1;32m   1192\u001b[0m \u001b[43m    \u001b[49m\u001b[38;5;28;43mstr\u001b[39;49m\u001b[43m(\u001b[49m\u001b[43mprompt\u001b[49m\u001b[43m)\u001b[49m\u001b[43m,\u001b[49m\n\u001b[1;32m   1193\u001b[0m \u001b[43m    \u001b[49m\u001b[38;5;28;43mself\u001b[39;49m\u001b[38;5;241;43m.\u001b[39;49m\u001b[43m_parent_ident\u001b[49m\u001b[43m[\u001b[49m\u001b[38;5;124;43m\"\u001b[39;49m\u001b[38;5;124;43mshell\u001b[39;49m\u001b[38;5;124;43m\"\u001b[39;49m\u001b[43m]\u001b[49m\u001b[43m,\u001b[49m\n\u001b[1;32m   1194\u001b[0m \u001b[43m    \u001b[49m\u001b[38;5;28;43mself\u001b[39;49m\u001b[38;5;241;43m.\u001b[39;49m\u001b[43mget_parent\u001b[49m\u001b[43m(\u001b[49m\u001b[38;5;124;43m\"\u001b[39;49m\u001b[38;5;124;43mshell\u001b[39;49m\u001b[38;5;124;43m\"\u001b[39;49m\u001b[43m)\u001b[49m\u001b[43m,\u001b[49m\n\u001b[1;32m   1195\u001b[0m \u001b[43m    \u001b[49m\u001b[43mpassword\u001b[49m\u001b[38;5;241;43m=\u001b[39;49m\u001b[38;5;28;43;01mFalse\u001b[39;49;00m\u001b[43m,\u001b[49m\n\u001b[1;32m   1196\u001b[0m \u001b[43m\u001b[49m\u001b[43m)\u001b[49m\n",
      "File \u001b[0;32m~/.pyenv/versions/mitsuba-venv/lib/python3.9/site-packages/ipykernel/kernelbase.py:1234\u001b[0m, in \u001b[0;36mKernel._input_request\u001b[0;34m(self, prompt, ident, parent, password)\u001b[0m\n\u001b[1;32m   1231\u001b[0m \u001b[38;5;28;01mexcept\u001b[39;00m \u001b[38;5;167;01mKeyboardInterrupt\u001b[39;00m:\n\u001b[1;32m   1232\u001b[0m     \u001b[38;5;66;03m# re-raise KeyboardInterrupt, to truncate traceback\u001b[39;00m\n\u001b[1;32m   1233\u001b[0m     msg \u001b[38;5;241m=\u001b[39m \u001b[38;5;124m\"\u001b[39m\u001b[38;5;124mInterrupted by user\u001b[39m\u001b[38;5;124m\"\u001b[39m\n\u001b[0;32m-> 1234\u001b[0m     \u001b[38;5;28;01mraise\u001b[39;00m \u001b[38;5;167;01mKeyboardInterrupt\u001b[39;00m(msg) \u001b[38;5;28;01mfrom\u001b[39;00m \u001b[38;5;28mNone\u001b[39m\n\u001b[1;32m   1235\u001b[0m \u001b[38;5;28;01mexcept\u001b[39;00m \u001b[38;5;167;01mException\u001b[39;00m:\n\u001b[1;32m   1236\u001b[0m     \u001b[38;5;28mself\u001b[39m\u001b[38;5;241m.\u001b[39mlog\u001b[38;5;241m.\u001b[39mwarning(\u001b[38;5;124m\"\u001b[39m\u001b[38;5;124mInvalid Message:\u001b[39m\u001b[38;5;124m\"\u001b[39m, exc_info\u001b[38;5;241m=\u001b[39m\u001b[38;5;28;01mTrue\u001b[39;00m)\n",
      "\u001b[0;31mKeyboardInterrupt\u001b[0m: Interrupted by user"
     ]
    }
   ],
   "source": [
    "graph_data = graphs_samples[10].data\n",
    "print(graph_data)\n",
    "upload_data_gl(graph_data)"
   ]
  }
 ],
 "metadata": {
  "kernelspec": {
   "display_name": "mitsuba-venv",
   "language": "python",
   "name": "mitsuba-venv"
  },
  "language_info": {
   "codemirror_mode": {
    "name": "ipython",
    "version": 3
   },
   "file_extension": ".py",
   "mimetype": "text/x-python",
   "name": "python",
   "nbconvert_exporter": "python",
   "pygments_lexer": "ipython3",
   "version": "3.9.0"
  }
 },
 "nbformat": 4,
 "nbformat_minor": 5
}
