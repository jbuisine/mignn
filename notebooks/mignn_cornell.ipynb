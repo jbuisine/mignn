{
 "cells": [
  {
   "cell_type": "code",
   "execution_count": 1,
   "id": "e958a24d-510f-4a8a-98d6-fff31c150f02",
   "metadata": {
    "tags": []
   },
   "outputs": [
    {
     "name": "stdout",
     "output_type": "stream",
     "text": [
      "\u001b[93m[mitsuba] Warning: Couldn't import the ipywidgets package. Installing this package is required for the system to properly log messages and print in Jupyter notebooks!\n"
     ]
    }
   ],
   "source": [
    "import os\n",
    "import mitsuba as mi\n",
    "\n",
    "output_data_folder = 'data'\n",
    "scene_file = 'scenes/cornell-box/scene.xml'\n",
    "\n",
    "mi.set_variant('scalar_rgb')\n",
    "scene = mi.load_file(scene_file)"
   ]
  },
  {
   "cell_type": "code",
   "execution_count": 9,
   "id": "b971486c-e07c-4413-849b-b73c3d11d5b4",
   "metadata": {
    "tags": []
   },
   "outputs": [],
   "source": [
    "# clear data if necessary\n",
    "%rm -r data"
   ]
  },
  {
   "cell_type": "code",
   "execution_count": 10,
   "id": "e8af9900-5bd7-424c-92d1-088931b15a1a",
   "metadata": {
    "tags": []
   },
   "outputs": [],
   "source": [
    "# create data folder if necessary\n",
    "os.makedirs(output_data_folder, exist_ok=True)"
   ]
  },
  {
   "cell_type": "code",
   "execution_count": 13,
   "id": "28349849-9fe2-4da0-a1d8-04ee3cf4c899",
   "metadata": {
    "tags": []
   },
   "outputs": [],
   "source": [
    "params = mi.traverse(scene)\n",
    "params['logfile'] = 'data/gnn_file_2.path'\n",
    "params.update();"
   ]
  },
  {
   "cell_type": "code",
   "execution_count": 14,
   "id": "dd9758e0-b6cd-420e-8a9f-778430d60f0a",
   "metadata": {
    "tags": []
   },
   "outputs": [
    {
     "data": {
      "text/plain": [
       "TensorXf(shape=(64, 64, 3))"
      ]
     },
     "execution_count": 14,
     "metadata": {},
     "output_type": "execute_result"
    }
   ],
   "source": [
    "mi.render(scene, spp=10)"
   ]
  },
  {
   "cell_type": "code",
   "execution_count": 2,
   "id": "02e873b2-5ea1-4fa2-8ed4-deb6179423d6",
   "metadata": {},
   "outputs": [
    {
     "name": "stdout",
     "output_type": "stream",
     "text": [
      "Load of `data/gnn_file_1.path` in progress: 100.00%\n",
      "Load of `data/gnn_file_2.path` in progress: 100.00%\n",
      "SimpleLightGraphContainer: [n_keys: 4096, n_graphs: 40960, n_nodes: 138231 (duplicate: 0), n_connections: 97271 (built: 0)]\n",
      "SimpleLightGraphContainer: [n_keys: 4096, n_graphs: 40960, n_nodes: 138231 (duplicate: 0), n_connections: 97271 (built: 0)]\n"
     ]
    }
   ],
   "source": [
    "from mignn.container import SimpleLightGraphContainer\n",
    "light_graphs1 = SimpleLightGraphContainer.fromfile('data/gnn_file_1.path', scene_file, verbose=True)\n",
    "light_graphs2 = SimpleLightGraphContainer.fromfile('data/gnn_file_2.path', scene_file, verbose=True)\n",
    "print(f'{light_graphs1}')\n",
    "print(f'{light_graphs2}')"
   ]
  },
  {
   "cell_type": "code",
   "execution_count": 3,
   "id": "a4e9c987-7a11-40aa-8f37-78f098fd7580",
   "metadata": {
    "tags": []
   },
   "outputs": [
    {
     "name": "stdout",
     "output_type": "stream",
     "text": [
      "SimpleLightGraphContainer: [n_keys: 4096, n_graphs: 81920, n_nodes: 276462 (duplicate: 0), n_connections: 194542 (built: 0)]\n"
     ]
    }
   ],
   "source": [
    "from mignn.manager import LightGraphManager\n",
    "merged_graph_container = LightGraphManager.fusion([light_graphs1, light_graphs2])\n",
    "print(merged_graph_container)"
   ]
  },
  {
   "cell_type": "code",
   "execution_count": 4,
   "id": "f67e6e28-281a-47c0-bb4e-289582a70a33",
   "metadata": {
    "tags": []
   },
   "outputs": [
    {
     "name": "stdout",
     "output_type": "stream",
     "text": [
      "Connections build 0.20%\r"
     ]
    },
    {
     "name": "stderr",
     "output_type": "stream",
     "text": [
      "/home/jerome/Documents/Research/Development/Rendering/mitsuba3/build-gnn/python/drjit/router.py:1753: RuntimeWarning: divide by zero encountered in divide\n",
      "  return 1.0 / arg\n",
      "/home/jerome/Documents/Research/Development/Rendering/mitsuba3/build-gnn/python/drjit/generic.py:194: RuntimeWarning: invalid value encountered in scalar multiply\n",
      "  ar[i] = a0[i] * a1\n"
     ]
    },
    {
     "name": "stdout",
     "output_type": "stream",
     "text": [
      "Connections build 100.00%\r"
     ]
    }
   ],
   "source": [
    "merged_graph_container.build_connections(n_graphs=10, n_nodes_per_graphs=2, n_neighbors=5, verbose=True)"
   ]
  },
  {
   "cell_type": "code",
   "execution_count": 5,
   "id": "3b69b953-33dd-4587-be87-33037543c44a",
   "metadata": {},
   "outputs": [
    {
     "name": "stdout",
     "output_type": "stream",
     "text": [
      "SimpleLightGraphContainer: [n_keys: 4096, n_graphs: 81920, n_nodes: 313365 (duplicate: 36903), n_connections: 231899 (built: 37357)]\n"
     ]
    }
   ],
   "source": [
    "print(merged_graph_container)"
   ]
  },
  {
   "cell_type": "code",
   "execution_count": 6,
   "id": "f4713f83-8c96-4fa5-a073-5c207fc3c619",
   "metadata": {
    "tags": []
   },
   "outputs": [
    {
     "data": {
      "text/plain": [
       "20"
      ]
     },
     "execution_count": 6,
     "metadata": {},
     "output_type": "execute_result"
    }
   ],
   "source": [
    "graphs_samples = merged_graph_container.get_graphs((0, 0))\n",
    "len(graphs_samples)"
   ]
  },
  {
   "cell_type": "code",
   "execution_count": 7,
   "id": "0e38697e-7fef-4802-8234-3d35d27c3d5c",
   "metadata": {
    "tags": []
   },
   "outputs": [
    {
     "data": {
      "text/plain": [
       "{'nodes': [[-0.00167775, 1.00171, 6.79, -0.163149, 0.166625, -0.972429],\n",
       "  [-0.979138, 2.0, 0.963979, -8.74228e-08, -1.0, -8.74228e-08],\n",
       "  [-1.0, 1.92422, 0.867575, -1.0, -4.37114e-08, -8.74228e-08],\n",
       "  [-0.949757, 2.0, 0.817502, -8.74228e-08, -1.0, -8.74228e-08]],\n",
       " 'edges': [(0, 1, [5.9912]), (1, 2, [0.124219]), (2, 3, [0.10367])],\n",
       " 'targets': [0.0122338, 0.000872541, 0.000214275]}"
      ]
     },
     "execution_count": 7,
     "metadata": {},
     "output_type": "execute_result"
    }
   ],
   "source": [
    "graphs_samples[0].data"
   ]
  },
  {
   "cell_type": "code",
   "execution_count": 9,
   "id": "a778969b-4302-4e04-b5d7-184abd072860",
   "metadata": {
    "tags": []
   },
   "outputs": [
    {
     "ename": "ModuleNotFoundError",
     "evalue": "No module named 'torch'",
     "output_type": "error",
     "traceback": [
      "\u001b[0;31m---------------------------------------------------------------------------\u001b[0m",
      "\u001b[0;31mModuleNotFoundError\u001b[0m                       Traceback (most recent call last)",
      "Cell \u001b[0;32mIn[9], line 1\u001b[0m\n\u001b[0;32m----> 1\u001b[0m \u001b[38;5;28;01mimport\u001b[39;00m \u001b[38;5;21;01mtorch\u001b[39;00m\n\u001b[1;32m      2\u001b[0m \u001b[38;5;28;01mfrom\u001b[39;00m \u001b[38;5;21;01mtorch_geometric\u001b[39;00m\u001b[38;5;21;01m.\u001b[39;00m\u001b[38;5;21;01mdata\u001b[39;00m \u001b[38;5;28;01mimport\u001b[39;00m Data\n",
      "\u001b[0;31mModuleNotFoundError\u001b[0m: No module named 'torch'"
     ]
    }
   ],
   "source": [
    "import torch\n",
    "from torch_geometric.data import Data"
   ]
  }
 ],
 "metadata": {
  "kernelspec": {
   "display_name": "mitsuba-venv",
   "language": "python",
   "name": "mitsuba-venv"
  },
  "language_info": {
   "codemirror_mode": {
    "name": "ipython",
    "version": 3
   },
   "file_extension": ".py",
   "mimetype": "text/x-python",
   "name": "python",
   "nbconvert_exporter": "python",
   "pygments_lexer": "ipython3",
   "version": "3.9.0"
  }
 },
 "nbformat": 4,
 "nbformat_minor": 5
}
