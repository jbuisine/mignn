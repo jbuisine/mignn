{
 "cells": [
  {
   "cell_type": "code",
   "execution_count": 1,
   "id": "e958a24d-510f-4a8a-98d6-fff31c150f02",
   "metadata": {
    "tags": []
   },
   "outputs": [
    {
     "name": "stdout",
     "output_type": "stream",
     "text": [
      "\u001b[93m[mitsuba] Warning: Couldn't import the ipywidgets package. Installing this package is required for the system to properly log messages and print in Jupyter notebooks!\n"
     ]
    }
   ],
   "source": [
    "import os\n",
    "import mitsuba as mi\n",
    "\n",
    "output_data_folder = 'data'\n",
    "scene_file = 'scenes/cornell-box/scene.xml'\n",
    "\n",
    "mi.set_variant('scalar_rgb')\n",
    "scene = mi.load_file(scene_file)"
   ]
  },
  {
   "cell_type": "code",
   "execution_count": 9,
   "id": "b971486c-e07c-4413-849b-b73c3d11d5b4",
   "metadata": {
    "tags": []
   },
   "outputs": [],
   "source": [
    "# clear data if necessary\n",
    "%rm -r data"
   ]
  },
  {
   "cell_type": "code",
   "execution_count": 10,
   "id": "e8af9900-5bd7-424c-92d1-088931b15a1a",
   "metadata": {
    "tags": []
   },
   "outputs": [],
   "source": [
    "# create data folder if necessary\n",
    "os.makedirs(output_data_folder, exist_ok=True)"
   ]
  },
  {
   "cell_type": "code",
   "execution_count": 13,
   "id": "28349849-9fe2-4da0-a1d8-04ee3cf4c899",
   "metadata": {
    "tags": []
   },
   "outputs": [],
   "source": [
    "params = mi.traverse(scene)\n",
    "params['logfile'] = 'data/gnn_file_2.path'\n",
    "params.update();"
   ]
  },
  {
   "cell_type": "code",
   "execution_count": 14,
   "id": "dd9758e0-b6cd-420e-8a9f-778430d60f0a",
   "metadata": {
    "tags": []
   },
   "outputs": [
    {
     "data": {
      "text/plain": [
       "TensorXf(shape=(64, 64, 3))"
      ]
     },
     "execution_count": 14,
     "metadata": {},
     "output_type": "execute_result"
    }
   ],
   "source": [
    "mi.render(scene, spp=10)"
   ]
  },
  {
   "cell_type": "code",
   "execution_count": 7,
   "id": "02e873b2-5ea1-4fa2-8ed4-deb6179423d6",
   "metadata": {},
   "outputs": [
    {
     "name": "stdout",
     "output_type": "stream",
     "text": [
      "Load of `data/gnn_file_1.path` in progress: 100.00%\n",
      "Load of `data/gnn_file_2.path` in progress: 100.00%\n",
      "SimpleLightGraphContainer: [n_keys: 4096, n_graphs: 40960, n_nodes: 138231 (duplicate: 0), n_connections: 97271 (built: 0)]\n",
      "SimpleLightGraphContainer: [n_keys: 4096, n_graphs: 40960, n_nodes: 138231 (duplicate: 0), n_connections: 97271 (built: 0)]\n"
     ]
    }
   ],
   "source": [
    "from mignn.container import SimpleLightGraphContainer\n",
    "light_graphs1 = SimpleLightGraphContainer.fromfile('data/gnn_file_1.path', scene_file, verbose=True)\n",
    "light_graphs2 = SimpleLightGraphContainer.fromfile('data/gnn_file_2.path', scene_file, verbose=True)\n",
    "print(f'{light_graphs1}')\n",
    "print(f'{light_graphs2}')"
   ]
  },
  {
   "cell_type": "code",
   "execution_count": 8,
   "id": "a4e9c987-7a11-40aa-8f37-78f098fd7580",
   "metadata": {
    "tags": []
   },
   "outputs": [
    {
     "name": "stdout",
     "output_type": "stream",
     "text": [
      "SimpleLightGraphContainer: [n_keys: 4096, n_graphs: 81920, n_nodes: 276462 (duplicate: 0), n_connections: 194542 (built: 0)]\n"
     ]
    }
   ],
   "source": [
    "from mignn.manager import LightGraphManager\n",
    "merged_graph_container = LightGraphManager.fusion([light_graphs1, light_graphs2])\n",
    "print(merged_graph_container)"
   ]
  },
  {
   "cell_type": "code",
   "execution_count": null,
   "id": "f67e6e28-281a-47c0-bb4e-289582a70a33",
   "metadata": {
    "tags": []
   },
   "outputs": [
    {
     "name": "stdout",
     "output_type": "stream",
     "text": [
      "Connections build 58.79%\r"
     ]
    }
   ],
   "source": [
    "merged_graph_container.build_connections(n_graphs=10, n_nodes_per_graphs=2, n_neighbors=5, verbose=True)"
   ]
  },
  {
   "cell_type": "code",
   "execution_count": null,
   "id": "3b69b953-33dd-4587-be87-33037543c44a",
   "metadata": {},
   "outputs": [],
   "source": [
    "print(merged_graph_container)"
   ]
  }
 ],
 "metadata": {
  "kernelspec": {
   "display_name": "mitsuba-venv",
   "language": "python",
   "name": "mitsuba-venv"
  },
  "language_info": {
   "codemirror_mode": {
    "name": "ipython",
    "version": 3
   },
   "file_extension": ".py",
   "mimetype": "text/x-python",
   "name": "python",
   "nbconvert_exporter": "python",
   "pygments_lexer": "ipython3",
   "version": "3.9.0"
  }
 },
 "nbformat": 4,
 "nbformat_minor": 5
}
