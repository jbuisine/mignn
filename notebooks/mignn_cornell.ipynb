{
 "cells": [
  {
   "cell_type": "code",
   "execution_count": 22,
   "id": "e958a24d-510f-4a8a-98d6-fff31c150f02",
   "metadata": {
    "tags": []
   },
   "outputs": [],
   "source": [
    "import os\n",
    "import mitsuba as mi\n",
    "\n",
    "output_data_folder = 'data'\n",
    "scene_file = 'scenes/cornell-box/scene.xml'\n",
    "\n",
    "mi.set_variant('scalar_rgb')\n",
    "scene = mi.load_file(scene_file)"
   ]
  },
  {
   "cell_type": "code",
   "execution_count": 28,
   "id": "b971486c-e07c-4413-849b-b73c3d11d5b4",
   "metadata": {
    "tags": []
   },
   "outputs": [],
   "source": [
    "# clear data if necessary\n",
    "%rm -r data"
   ]
  },
  {
   "cell_type": "code",
   "execution_count": 29,
   "id": "e8af9900-5bd7-424c-92d1-088931b15a1a",
   "metadata": {
    "tags": []
   },
   "outputs": [],
   "source": [
    "# create data folder if necessary\n",
    "os.makedirs(output_data_folder, exist_ok=True)"
   ]
  },
  {
   "cell_type": "code",
   "execution_count": 30,
   "id": "28349849-9fe2-4da0-a1d8-04ee3cf4c899",
   "metadata": {
    "tags": []
   },
   "outputs": [
    {
     "data": {
      "text/plain": [
       "TensorXf(shape=(4, 4, 3))"
      ]
     },
     "execution_count": 30,
     "metadata": {},
     "output_type": "execute_result"
    }
   ],
   "source": [
    "params = mi.traverse(scene)\n",
    "params['logfile'] = 'data/gnn_file_1.path'\n",
    "params.update();\n",
    "mi.render(scene, spp=20)\n",
    "\n",
    "params = mi.traverse(scene)\n",
    "params['logfile'] = 'data/gnn_file_2.path'\n",
    "params.update();\n",
    "mi.render(scene, spp=20)"
   ]
  },
  {
   "cell_type": "code",
   "execution_count": 31,
   "id": "02e873b2-5ea1-4fa2-8ed4-deb6179423d6",
   "metadata": {},
   "outputs": [
    {
     "name": "stdout",
     "output_type": "stream",
     "text": [
      "Load of `data/gnn_file_1.path` in progress: 100.00%\n",
      "Load of `data/gnn_file_2.path` in progress: 100.00%\n",
      "SimpleLightGraphContainer: [n_keys: 16, n_graphs: 320, n_nodes: 1345 (duplicate: 0), n_connections: 1025 (built: 0)]\n",
      "SimpleLightGraphContainer: [n_keys: 16, n_graphs: 320, n_nodes: 1345 (duplicate: 0), n_connections: 1025 (built: 0)]\n"
     ]
    }
   ],
   "source": [
    "from mignn.container import SimpleLightGraphContainer\n",
    "light_graphs1 = SimpleLightGraphContainer.fromfile('data/gnn_file_1.path', scene_file, verbose=True)\n",
    "light_graphs2 = SimpleLightGraphContainer.fromfile('data/gnn_file_2.path', scene_file, verbose=True)\n",
    "print(f'{light_graphs1}')\n",
    "print(f'{light_graphs2}')"
   ]
  },
  {
   "cell_type": "code",
   "execution_count": 32,
   "id": "a4e9c987-7a11-40aa-8f37-78f098fd7580",
   "metadata": {
    "tags": []
   },
   "outputs": [
    {
     "name": "stdout",
     "output_type": "stream",
     "text": [
      "SimpleLightGraphContainer: [n_keys: 16, n_graphs: 640, n_nodes: 2690 (duplicate: 0), n_connections: 2050 (built: 0)]\n"
     ]
    }
   ],
   "source": [
    "from mignn.manager import LightGraphManager\n",
    "merged_graph_container = LightGraphManager.fusion([light_graphs1, light_graphs2])\n",
    "print(merged_graph_container)"
   ]
  },
  {
   "cell_type": "code",
   "execution_count": 42,
   "id": "f67e6e28-281a-47c0-bb4e-289582a70a33",
   "metadata": {
    "tags": []
   },
   "outputs": [
    {
     "name": "stderr",
     "output_type": "stream",
     "text": [
      "/home/jerome/Documents/Research/Development/Rendering/mitsuba3/build-gnn/python/drjit/router.py:1753: RuntimeWarning: divide by zero encountered in divide\n",
      "  return 1.0 / arg\n",
      "/home/jerome/Documents/Research/Development/Rendering/mitsuba3/build-gnn/python/drjit/generic.py:194: RuntimeWarning: invalid value encountered in scalar multiply\n",
      "  ar[i] = a0[i] * a1\n"
     ]
    },
    {
     "name": "stdout",
     "output_type": "stream",
     "text": [
      "Connections build 100.00%\r"
     ]
    }
   ],
   "source": [
    "merged_graph_container.build_connections(n_graphs=20, n_nodes_per_graphs=10, n_neighbors=10, verbose=True)"
   ]
  },
  {
   "cell_type": "code",
   "execution_count": 43,
   "id": "3b69b953-33dd-4587-be87-33037543c44a",
   "metadata": {},
   "outputs": [
    {
     "name": "stdout",
     "output_type": "stream",
     "text": [
      "SimpleLightGraphContainer: [n_keys: 16, n_graphs: 640, n_nodes: 3825 (duplicate: 1135), n_connections: 3236 (built: 1186)]\n"
     ]
    }
   ],
   "source": [
    "print(merged_graph_container)"
   ]
  },
  {
   "cell_type": "code",
   "execution_count": 48,
   "id": "a778969b-4302-4e04-b5d7-184abd072860",
   "metadata": {
    "tags": []
   },
   "outputs": [],
   "source": [
    "import torch\n",
    "from torch_geometric.data import Data\n",
    "\n",
    "graphs_samples = merged_graph_container.get_graphs((0, 0))\n",
    "graph_data = graphs_samples[0].data"
   ]
  },
  {
   "cell_type": "code",
   "execution_count": 49,
   "id": "eee0f588-5b51-4883-933a-f10cf8c20ab2",
   "metadata": {
    "tags": []
   },
   "outputs": [
    {
     "data": {
      "text/plain": [
       "{'nodes': [[-0.000966524, 1.00162, 6.79, -0.094979, 0.159077, -0.982687],\n",
       "  [-0.597062, 2.0, 0.622587, -8.74228e-08, -1.0, -8.74228e-08],\n",
       "  [-0.988826, 1.19742, -1.0, 1.31134e-07, -4.37114e-08, -1.0],\n",
       "  [-1.0, 1.20663, -0.989536, -1.0, -4.37114e-08, -8.74228e-08],\n",
       "  [-0.700133, 1.00084, -0.480951, -0.328668, -4.69111e-08, -0.944445],\n",
       "  [-0.482295, 0.396093, -1.0, 1.31134e-07, -4.37114e-08, -1.0],\n",
       "  [-0.423626, 1.43039, -1.0, 1.31134e-07, -4.37114e-08, -1.0]],\n",
       " 'edges': [(0, 1, [6.27607]),\n",
       "  (1, 2, [1.85202]),\n",
       "  (2, 3, [0.0177505]),\n",
       "  (3, 4, [0.625151]),\n",
       "  (4, 5, [0.826094]),\n",
       "  (2, 6, [0.623417317867279])],\n",
       " 'targets': [0.13413, 0.0649884, 0.0196613]}"
      ]
     },
     "execution_count": 49,
     "metadata": {},
     "output_type": "execute_result"
    }
   ],
   "source": [
    "graph_data"
   ]
  },
  {
   "cell_type": "code",
   "execution_count": 50,
   "id": "b3e8cb6b-8d63-4bb6-ac4c-0bd90e743c88",
   "metadata": {
    "tags": []
   },
   "outputs": [],
   "source": [
    "import networkx as nx\n",
    "import matplotlib.pyplot as plt\n",
    "from torch_geometric.utils import to_networkx\n",
    "\n",
    "def visualize_graph(G, color, name):\n",
    "    plt.figure(figsize=(7,7))\n",
    "    plt.xticks([])\n",
    "    plt.yticks([])\n",
    "    plt.axis('off')\n",
    "    nx.draw_networkx(G, pos=nx.spring_layout(G, seed=42), with_labels=False,\n",
    "                     node_color=color, cmap=\"Set2\")\n",
    "    #plt.savefig(name, dpi=100)"
   ]
  },
  {
   "cell_type": "code",
   "execution_count": 51,
   "id": "e5ef6a1b-3416-4d6d-93b9-dcb8d7b0d3ea",
   "metadata": {
    "tags": []
   },
   "outputs": [
    {
     "name": "stdout",
     "output_type": "stream",
     "text": [
      "Data(x=[7, 6], edge_index=[2, 6], edge_attr=[6, 1], y=[3])\n"
     ]
    },
    {
     "data": {
      "image/png": "[encoded data removed]",
      "text/plain": [
       "<Figure size 700x700 with 1 Axes>"
      ]
     },
     "metadata": {},
     "output_type": "display_data"
    }
   ],
   "source": [
    "edges_data = [ data for (_, _, data) in graph_data['edges'] ]\n",
    "edges_index = [ (n1, n2) for (n1, n2, _) in graph_data['edges'] ]\n",
    "\n",
    "# check with node position and with added node color (add some tags when build connections)\n",
    "edge_index = torch.tensor(edges_index, dtype=torch.long)\n",
    "x = torch.tensor(graph_data['nodes'], dtype=torch.float)\n",
    "edge_attr = torch.tensor(edges_data, dtype=torch.float)\n",
    "y = torch.tensor(graph_data['targets'], dtype=torch.float)\n",
    "\n",
    "data = Data(edge_index=edge_index.t().contiguous(), x=x, edge_attr=edge_attr, y=y)\n",
    "print(data)\n",
    "\n",
    "G = to_networkx(data, to_undirected=True)\n",
    "colors = [ x.detach().numpy().argmax() for x in data.x]\n",
    "visualize_graph(G, colors, None)"
   ]
  }
 ],
 "metadata": {
  "kernelspec": {
   "display_name": "mitsuba-venv",
   "language": "python",
   "name": "mitsuba-venv"
  },
  "language_info": {
   "codemirror_mode": {
    "name": "ipython",
    "version": 3
   },
   "file_extension": ".py",
   "mimetype": "text/x-python",
   "name": "python",
   "nbconvert_exporter": "python",
   "pygments_lexer": "ipython3",
   "version": "3.9.0"
  }
 },
 "nbformat": 4,
 "nbformat_minor": 5
}
